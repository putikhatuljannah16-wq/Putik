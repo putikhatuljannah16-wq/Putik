{
  "nbformat": 4,
  "nbformat_minor": 0,
  "metadata": {
    "colab": {
      "provenance": [],
      "authorship_tag": "ABX9TyMATZ3/UH1BrT/dGtBwv3IA",
      "include_colab_link": true
    },
    "kernelspec": {
      "name": "python3",
      "display_name": "Python 3"
    },
    "language_info": {
      "name": "python"
    }
  },
  "cells": [
    {
      "cell_type": "markdown",
      "metadata": {
        "id": "view-in-github",
        "colab_type": "text"
      },
      "source": [
        "<a href=\"https://colab.research.google.com/github/putikhatuljannah16-wq/Putik/blob/main/Modul_4.ipynb\" target=\"_parent\"><img src=\"https://colab.research.google.com/assets/colab-badge.svg\" alt=\"Open In Colab\"/></a>"
      ]
    },
    {
      "cell_type": "code",
      "execution_count": 1,
      "metadata": {
        "colab": {
          "base_uri": "https://localhost:8080/"
        },
        "id": "IYgK8HIWpKaI",
        "outputId": "f7b9f58d-62f5-47cd-cd89-721596fcd017"
      },
      "outputs": [
        {
          "output_type": "stream",
          "name": "stdout",
          "text": [
            "KASUS 3: SIMULASI GERAK LURUS DENGAN PERCEPATAN KONSTAN\n",
            "\n",
            "Waktu (s)\tPosisi (m)\tKecepatan (m/s)\tEnergi Kinetik (J)\tEnergi Potensial (J)\n",
            "0.0\t\t20.00\t\t0.00\t\t0.00\t\t\t294.00\n",
            "1.0\t\t22.00\t\t4.00\t\t12.00\t\t\t323.40\n",
            "2.0\t\t28.00\t\t8.00\t\t48.00\t\t\t411.60\n",
            "3.0\t\t38.00\t\t12.00\t\t108.00\t\t\t558.60\n",
            "4.0\t\t52.00\t\t16.00\t\t192.00\t\t\t764.40\n",
            "5.0\t\t70.00\t\t20.00\t\t300.00\t\t\t1029.00\n",
            "6.0\t\t92.00\t\t24.00\t\t432.00\t\t\t1352.40\n"
          ]
        }
      ],
      "source": [
        "\n",
        "# kasus 3\n",
        "# Diketahui\n",
        "\n",
        "m = 1.5 # massa benda (kg)\n",
        "a = 4 # percepatan konstan (m/s²)\n",
        "v0 = 0 # kecepatan awal (m/s)\n",
        "s0 = 20 # posisi awal (m)\n",
        "t_total = 6 # total waktu simulasi (s)\n",
        "dt = 1 # interval waktu (s)\n",
        "g = 9.8 # percepatan gravitasi (m/s²)\n",
        "\n",
        "# Header tabel\n",
        "print(\"KASUS 3: SIMULASI GERAK LURUS DENGAN PERCEPATAN KONSTAN\\n\")\n",
        "print(\"Waktu (s)\\tPosisi (m)\\tKecepatan (m/s)\\tEnergi Kinetik (J)\\tEnergi Potensial (J)\")\n",
        "\n",
        "# Inisialisasi waktu\n",
        "t = 0\n",
        "while t <= t_total:\n",
        "    # Rumus posisi dan kecepatan\n",
        "    s = s0 + v0 * t + 0.5 * a * t**2\n",
        "    v = v0 + a * t\n",
        "\n",
        "    # Energi kinetik dan potensial\n",
        "    Ek = 0.5 * m * v**2\n",
        "    Ep = m * g * s\n",
        "\n",
        "    # Tampilkan hasil dalam format tabel\n",
        "    print(f\"{t:.1f}\\t\\t{s:.2f}\\t\\t{v:.2f}\\t\\t{Ek:.2f}\\t\\t\\t{Ep:.2f}\")\n",
        "\n",
        "    # Naikkan waktu sesuai interval\n",
        "    t += dt"
      ]
    }
  ]
}