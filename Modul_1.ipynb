{
  "nbformat": 4,
  "nbformat_minor": 0,
  "metadata": {
    "colab": {
      "provenance": [],
      "toc_visible": true,
      "authorship_tag": "ABX9TyMHIY1T7Obhm7vfkEpm3++6",
      "include_colab_link": true
    },
    "kernelspec": {
      "name": "python3",
      "display_name": "Python 3"
    },
    "language_info": {
      "name": "python"
    }
  },
  "cells": [
    {
      "cell_type": "markdown",
      "metadata": {
        "id": "view-in-github",
        "colab_type": "text"
      },
      "source": [
        "<a href=\"https://colab.research.google.com/github/putikhatuljannah16-wq/Putik/blob/main/Modul_1.ipynb\" target=\"_parent\"><img src=\"https://colab.research.google.com/assets/colab-badge.svg\" alt=\"Open In Colab\"/></a>"
      ]
    },
    {
      "cell_type": "code",
      "source": [],
      "metadata": {
        "id": "TQP5eSeoiUG4"
      },
      "execution_count": null,
      "outputs": []
    },
    {
      "cell_type": "code",
      "execution_count": null,
      "metadata": {
        "colab": {
          "base_uri": "https://localhost:8080/"
        },
        "id": "gg0NFnT3Ozfd",
        "outputId": "d4c02e6f-753f-4111-85e2-330620314c54"
      },
      "outputs": [
        {
          "output_type": "stream",
          "name": "stdout",
          "text": [
            "kecepatan masing-masing benda pemain sepak bola = 8.571428571428571 m/s\n",
            "tercepat drone dengan kecepatan 8.571428571428571 m/s\n"
          ]
        }
      ],
      "source": [
        "#kasus 4=udara, laut, dan darat\n",
        "nama_benda=[\"drone\", \"kapal\", \"pemain sepak bola\"]\n",
        "jarak=[1200, 5000, 60]\n",
        "waktu=[60, 300, 7]\n",
        "\n",
        "kecepatan=[]\n",
        "for i in range(len(nama_benda)):\n",
        "   if waktu[i]==0:\n",
        "    print(f'waktu tidak boleh sama dengan 0')\n",
        "   else:\n",
        "    v=jarak[i] / waktu[i]\n",
        "kecepatan.append(v)\n",
        "print(f\"kecepatan masing-masing benda {nama_benda[i]} = {v} m/s\")\n",
        "\n",
        "max_kecepatan=max(kecepatan)\n",
        "index_kecepatan=kecepatan.index(max_kecepatan)\n",
        "print(f\"tercepat {nama_benda[index_kecepatan]} dengan kecepatan {max_kecepatan} m/s\")"
      ]
    }
  ]
}