{
  "nbformat": 4,
  "nbformat_minor": 0,
  "metadata": {
    "colab": {
      "provenance": [],
      "authorship_tag": "ABX9TyM8AZV6B6VvvA/JSUumWDTy",
      "include_colab_link": true
    },
    "kernelspec": {
      "name": "python3",
      "display_name": "Python 3"
    },
    "language_info": {
      "name": "python"
    }
  },
  "cells": [
    {
      "cell_type": "markdown",
      "metadata": {
        "id": "view-in-github",
        "colab_type": "text"
      },
      "source": [
        "<a href=\"https://colab.research.google.com/github/putikhatuljannah16-wq/Putik/blob/main/Putik_modul_3.ipynb\" target=\"_parent\"><img src=\"https://colab.research.google.com/assets/colab-badge.svg\" alt=\"Open In Colab\"/></a>"
      ]
    },
    {
      "cell_type": "code",
      "execution_count": null,
      "metadata": {
        "colab": {
          "base_uri": "https://localhost:8080/"
        },
        "id": "eF88NaAL5yQD",
        "outputId": "455025e6-eb63-4852-8314-62823fa66723"
      },
      "outputs": [
        {
          "output_type": "stream",
          "name": "stdout",
          "text": [
            "=== KASUS 1: HITUNG TEKANAN GAS (P) ===\n",
            "Jumlah mol (n)   = 2 mol\n",
            "Volume (V)       = 0.0100 m³\n",
            "Suhu (T)         = 300.15 K\n",
            "Konstanta (R)    = 8.314 J/(mol·K)\n",
            "---------------------------------------\n",
            "Tekanan gas (P)  = 499089.42 Pa\n",
            "\n",
            "Tekanan gas dalam atm = 4.926 atm\n"
          ]
        }
      ],
      "source": [
        "# ============================================\n",
        "# Program Menghitung Tekanan Gas Ideal (Kasus 1)\n",
        "# Rumus: PV = nRT → P = (nRT) / V\n",
        "# ============================================\n",
        "\n",
        "# Fungsi untuk menghitung tekanan gas ideal\n",
        "def hitung_tekanan(n, V_liter, T_celsius):\n",
        "    \"\"\"\n",
        "    Menghitung tekanan gas ideal menggunakan rumus PV = nRT.\n",
        "    Parameter:\n",
        "        n (float): jumlah mol gas\n",
        "        V_liter (float): volume gas dalam liter\n",
        "        T_celsius (float): suhu dalam derajat Celsius\n",
        "    Return:\n",
        "        P (float): tekanan dalam Pascal (Pa)\n",
        "    \"\"\"\n",
        "\n",
        "    # Konstanta gas universal\n",
        "    R = 8.314  # J/(mol·K)\n",
        "\n",
        "    # Konversi ke satuan SI\n",
        "    V_SI = V_liter / 1000    # liter ke meter kubik\n",
        "    T_SI = T_celsius + 273.15  # Celsius ke Kelvin\n",
        "\n",
        "    # Perhitungan tekanan\n",
        "    P = (n * R * T_SI) / V_SI\n",
        "\n",
        "    # Menampilkan hasil\n",
        "    print(\"=== KASUS 1: HITUNG TEKANAN GAS (P) ===\")\n",
        "    print(f\"Jumlah mol (n)   = {n} mol\")\n",
        "    print(f\"Volume (V)       = {V_SI:.4f} m³\")\n",
        "    print(f\"Suhu (T)         = {T_SI:.2f} K\")\n",
        "    print(f\"Konstanta (R)    = {R} J/(mol·K)\")\n",
        "    print(\"---------------------------------------\")\n",
        "    print(f\"Tekanan gas (P)  = {P:.2f} Pa\\n\")\n",
        "\n",
        "    return P\n",
        "\n",
        "\n",
        "# --- Program Utama ---\n",
        "def main():\n",
        "    # Data dari Kasus 1\n",
        "    n = 2       # mol\n",
        "    V = 10      # liter\n",
        "    T = 27      # °C\n",
        "\n",
        "    # Panggil fungsi perhitungan\n",
        "    tekanan = hitung_tekanan(n, V, T)\n",
        "\n",
        "    # Tambahan (konversi ke atm)\n",
        "    P_atm = tekanan / 101325\n",
        "    print(f\"Tekanan gas dalam atm = {P_atm:.3f} atm\")\n",
        "\n",
        "\n",
        "# Jalankan program\n",
        "if __name__ == \"__main__\":\n",
        "    main()"
      ]
    },
    {
      "cell_type": "code",
      "source": [
        "# Program menghitung Volume (V) pada Kasus 2 menggunakan Persamaan Gas Ideal PV = nRT\n",
        "\n",
        "# Konstanta gas ideal\n",
        "R = 8.314  # J/(mol·K)\n",
        "\n",
        "# --- Data kasus 2 ---\n",
        "P = 1         # Tekanan dalam atm\n",
        "n = 2        # Jumlah mol\n",
        "T = 25         # Suhu dalam °C\n",
        "\n",
        "# --- Konversi ke satuan SI ---\n",
        "P_SI = P * 101325        # 1 atm = 101325 Pa\n",
        "T_SI = T + 273.15        # °C → K\n",
        "\n",
        "# --- Hitung Volume ---\n",
        "V = n * R * T_SI / P_SI   # dalam satuan m³\n",
        "\n",
        "# --- Tampilkan hasil ---\n",
        "print(\"=== Kasus 2: Hitung Volume Gas (V) ===\")\n",
        "print(f\"Tekanan (P)     = {P_SI:.0f} Pa\")\n",
        "print(f\"Jumlah mol (n)  = {n} mol\")\n",
        "print(f\"Suhu (T)        = {T_SI:.2f} K\")\n",
        "print(f\"Konstanta (R)   = {R} J/(mol·K)\")\n",
        "print(f\"\\nVolume gas (V)  = {V:.6f} m³\")\n",
        "\n",
        "# Jika ingin juga dalam liter:\n",
        "V_L = V * 1000\n",
        "print(f\"Volume gas (V)  = {V_L:.2f} L\")"
      ],
      "metadata": {
        "colab": {
          "base_uri": "https://localhost:8080/"
        },
        "id": "Wr3xBFpn55KU",
        "outputId": "7d72c939-a150-4d4b-9f62-bfb712034c0b"
      },
      "execution_count": null,
      "outputs": [
        {
          "output_type": "stream",
          "name": "stdout",
          "text": [
            "=== Kasus 2: Hitung Volume Gas (V) ===\n",
            "Tekanan (P)     = 101325 Pa\n",
            "Jumlah mol (n)  = 2 mol\n",
            "Suhu (T)        = 298.15 K\n",
            "Konstanta (R)   = 8.314 J/(mol·K)\n",
            "\n",
            "Volume gas (V)  = 0.048928 m³\n",
            "Volume gas (V)  = 48.93 L\n"
          ]
        }
      ]
    },
    {
      "cell_type": "code",
      "source": [
        "# Program menghitung Jumlah Mol (n) pada Kasus 3 menggunakan Persamaan Gas Ideal PV = nRT\n",
        "\n",
        "# Konstanta gas ideal\n",
        "R = 8.314  # J/(mol·K)\n",
        "\n",
        "# --- Data kasus 3 ---\n",
        "P = 2 # Tekanan dalam atm\n",
        "V = 7 # Volume dalam liter\n",
        "T = 25 # Suhu dalam °C\n",
        "\n",
        "# --- Konversi ke satuan SI ---\n",
        "P_SI = P * 101325        # 1 atm = 101325 Pa\n",
        "V_SI = V / 1000          # 1 L = 0.001 m³\n",
        "T_SI = T + 273.15        # °C → K\n",
        "\n",
        "# --- Hitung jumlah mol ---\n",
        "n = (P_SI * V_SI) / (R * T_SI)\n",
        "\n",
        "# --- Tampilkan hasil ---\n",
        "print(\"=== Kasus 3: Hitung Jumlah Mol Gas (n) ===\")\n",
        "print(f\"Tekanan (P)     = {P_SI:.0f} Pa\")\n",
        "print(f\"Volume (V)      = {V_SI:.4f} m³\")\n",
        "print(f\"Suhu (T)        = {T_SI:.2f} K\")\n",
        "print(f\"Konstanta (R)   = {R} J/(mol·K)\")\n",
        "print(f\"\\nJumlah mol (n)  = {n:.5f} mol\")"
      ],
      "metadata": {
        "colab": {
          "base_uri": "https://localhost:8080/"
        },
        "id": "iCx2rPaAAXbY",
        "outputId": "61270354-5368-42de-e491-5f9aa616fb7b"
      },
      "execution_count": null,
      "outputs": [
        {
          "output_type": "stream",
          "name": "stdout",
          "text": [
            "=== Kasus 3: Hitung Jumlah Mol Gas (n) ===\n",
            "Tekanan (P)     = 202650 Pa\n",
            "Volume (V)      = 0.0070 m³\n",
            "Suhu (T)        = 298.15 K\n",
            "Konstanta (R)   = 8.314 J/(mol·K)\n",
            "\n",
            "Jumlah mol (n)  = 0.57227 mol\n"
          ]
        }
      ]
    },
    {
      "cell_type": "code",
      "source": [
        "# Program menghitung Suhu (T) pada Kasus 4 menggunakan Persamaan Gas Ideal PV = nRT\n",
        "\n",
        "# Konstanta gas ideal\n",
        "R = 8.314  # J/(mol·K)\n",
        "\n",
        "# --- Data kasus 4 ---\n",
        "P = 3 # Tekanan dalam atm\n",
        "V = 3 # Volume dalam liter\n",
        "n = 2 # Jumlah mol\n",
        "\n",
        "# --- Konversi ke satuan SI ---\n",
        "P_SI = P * 101325        # 1 atm = 101325 Pa\n",
        "V_SI = V / 1000          # 1 L = 0.001 m³\n",
        "\n",
        "# --- Hitung suhu ---\n",
        "T = (P_SI * V_SI) / (n * R)   # Hasil dalam Kelvin (K)\n",
        "T_C = T - 273.15              # Konversi ke Celcius\n",
        "\n",
        "# --- Tampilkan hasil ---\n",
        "print(\"=== Kasus 4: Hitung Suhu Gas (T) ===\")\n",
        "print(f\"Tekanan (P)     = {P_SI:.0f} Pa\")\n",
        "print(f\"Volume (V)      = {V_SI:.4f} m³\")\n",
        "print(f\"Jumlah mol (n)  = {n} mol\")\n",
        "print(f\"Konstanta (R)   = {R} J/(mol·K)\")\n",
        "print(f\"\\nSuhu (T)        = {T:.2f} K\")\n",
        "print(f\"Suhu (T)        = {T_C:.2f} °C\")"
      ],
      "metadata": {
        "colab": {
          "base_uri": "https://localhost:8080/"
        },
        "id": "cvZR8nudAjtC",
        "outputId": "36e26f83-0c9a-4b10-9764-8ddc67f79f9f"
      },
      "execution_count": null,
      "outputs": [
        {
          "output_type": "stream",
          "name": "stdout",
          "text": [
            "=== Kasus 4: Hitung Suhu Gas (T) ===\n",
            "Tekanan (P)     = 303975 Pa\n",
            "Volume (V)      = 0.0030 m³\n",
            "Jumlah mol (n)  = 2 mol\n",
            "Konstanta (R)   = 8.314 J/(mol·K)\n",
            "\n",
            "Suhu (T)        = 54.84 K\n",
            "Suhu (T)        = -218.31 °C\n"
          ]
        }
      ]
    }
  ]
}