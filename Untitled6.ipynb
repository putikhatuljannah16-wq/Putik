{
  "nbformat": 4,
  "nbformat_minor": 0,
  "metadata": {
    "colab": {
      "provenance": [],
      "authorship_tag": "ABX9TyNopk6hzfWCApIppQy9GgJb",
      "include_colab_link": true
    },
    "kernelspec": {
      "name": "python3",
      "display_name": "Python 3"
    },
    "language_info": {
      "name": "python"
    }
  },
  "cells": [
    {
      "cell_type": "markdown",
      "metadata": {
        "id": "view-in-github",
        "colab_type": "text"
      },
      "source": [
        "<a href=\"https://colab.research.google.com/github/putikhatuljannah16-wq/Putik/blob/main/Untitled6.ipynb\" target=\"_parent\"><img src=\"https://colab.research.google.com/assets/colab-badge.svg\" alt=\"Open In Colab\"/></a>"
      ]
    },
    {
      "cell_type": "code",
      "execution_count": 2,
      "metadata": {
        "colab": {
          "base_uri": "https://localhost:8080/"
        },
        "id": "9Wr9nIpMfjiI",
        "outputId": "fce6818b-2ea8-4201-d9fd-eecb91c12c88"
      },
      "outputs": [
        {
          "output_type": "stream",
          "name": "stdout",
          "text": [
            "=== Kasus 1: Hitung Tekanan Gas (P) ===\n",
            "Jumlah mol (n)  = 2 mol\n",
            "Volume (V)      = 0.0100 m³\n",
            "Suhu (T)        = 300.15 K\n",
            "Konstanta (R)   = 8.314 J/(mol·K)\n",
            "\n",
            "Tekanan gas (P) = 499089.42 Pa\n"
          ]
        }
      ],
      "source": [
        "# Program menghitung Tekanan (P) pada Kasus 1 menggunakan Persamaan Gas Ideal PV = nRT\n",
        "\n",
        "# Konstanta gas ideal\n",
        "R = 8.314  # J/(mol·K)\n",
        "\n",
        "# --- Data kasus 1 ---\n",
        "n = 2          # mol\n",
        "V = 10         # L\n",
        "T = 27         # °C\n",
        "\n",
        "# --- Konversi ke satuan SI ---\n",
        "V_SI = V / 1000        # 10 L = 0.01 m³\n",
        "T_SI = T + 273.15      # 27°C = 300.15 K\n",
        "\n",
        "# --- Perhitungan tekanan ---\n",
        "P = n * R * T_SI / V_SI   # dalam satuan Pascal (Pa)\n",
        "\n",
        "# --- Tampilkan hasil ---\n",
        "print(\"=== Kasus 1: Hitung Tekanan Gas (P) ===\")\n",
        "print(f\"Jumlah mol (n)  = {n} mol\")\n",
        "print(f\"Volume (V)      = {V_SI:.4f} m³\")\n",
        "print(f\"Suhu (T)        = {T_SI:.2f} K\")\n",
        "print(f\"Konstanta (R)   = {R} J/(mol·K)\")\n",
        "print(f\"\\nTekanan gas (P) = {P:.2f} Pa\")"
      ]
    },
    {
      "cell_type": "code",
      "source": [
        "# ============================================\n",
        "# Program Menghitung Tekanan Gas Ideal (Kasus 1)\n",
        "# Rumus: PV = nRT → P = (nRT) / V\n",
        "# ============================================\n",
        "\n",
        "# Fungsi untuk menghitung tekanan gas ideal\n",
        "def hitung_tekanan(n, V_liter, T_celsius):\n",
        "    \"\"\"\n",
        "    Menghitung tekanan gas ideal menggunakan rumus PV = nRT.\n",
        "    Parameter:\n",
        "        n (float): jumlah mol gas\n",
        "        V_liter (float): volume gas dalam liter\n",
        "        T_celsius (float): suhu dalam derajat Celsius\n",
        "    Return:\n",
        "        P (float): tekanan dalam Pascal (Pa)\n",
        "    \"\"\"\n",
        "\n",
        "    # Konstanta gas universal\n",
        "    R = 8.314  # J/(mol·K)\n",
        "\n",
        "    # Konversi ke satuan SI\n",
        "    V_SI = V_liter / 1000    # liter ke meter kubik\n",
        "    T_SI = T_celsius + 273.15  # Celsius ke Kelvin\n",
        "\n",
        "    # Perhitungan tekanan\n",
        "    P = (n * R * T_SI) / V_SI\n",
        "\n",
        "    # Menampilkan hasil\n",
        "    print(\"=== KASUS 1: HITUNG TEKANAN GAS (P) ===\")\n",
        "    print(f\"Jumlah mol (n)   = {n} mol\")\n",
        "    print(f\"Volume (V)       = {V_SI:.4f} m³\")\n",
        "    print(f\"Suhu (T)         = {T_SI:.2f} K\")\n",
        "    print(f\"Konstanta (R)    = {R} J/(mol·K)\")\n",
        "    print(\"---------------------------------------\")\n",
        "    print(f\"Tekanan gas (P)  = {P:.2f} Pa\\n\")\n",
        "\n",
        "    return P\n",
        "\n",
        "\n",
        "# --- Program Utama ---\n",
        "def main():\n",
        "    # Data dari Kasus 1\n",
        "    n = 2       # mol\n",
        "    V = 10      # liter\n",
        "    T = 27      # °C\n",
        "\n",
        "    # Panggil fungsi perhitungan\n",
        "    tekanan = hitung_tekanan(n, V, T)\n",
        "\n",
        "    # Tambahan (konversi ke atm)\n",
        "    P_atm = tekanan / 101325\n",
        "    print(f\"Tekanan gas dalam atm = {P_atm:.3f} atm\")\n",
        "\n",
        "\n",
        "# Jalankan program\n",
        "if __name__ == \"__main__\":\n",
        "    main()"
      ],
      "metadata": {
        "colab": {
          "base_uri": "https://localhost:8080/"
        },
        "id": "E8-3qa86mJYN",
        "outputId": "8acc7582-7f93-42ad-efb5-17dfc75a74e8"
      },
      "execution_count": 4,
      "outputs": [
        {
          "output_type": "stream",
          "name": "stdout",
          "text": [
            "=== KASUS 1: HITUNG TEKANAN GAS (P) ===\n",
            "Jumlah mol (n)   = 2 mol\n",
            "Volume (V)       = 0.0100 m³\n",
            "Suhu (T)         = 300.15 K\n",
            "Konstanta (R)    = 8.314 J/(mol·K)\n",
            "---------------------------------------\n",
            "Tekanan gas (P)  = 499089.42 Pa\n",
            "\n",
            "Tekanan gas dalam atm = 4.926 atm\n"
          ]
        }
      ]
    },
    {
      "cell_type": "code",
      "source": [
        "# Program menghitung Tekanan (p) pada kasus 1 menggunakan Persamaan Gas Ideal PV = nRT\n",
        "\n",
        "# Konstanta gas ideal\n",
        "R = 8.314 #J/(mol.K)\n",
        "\n",
        "#--- Data kasus 1 ---\n",
        "n = 2     #mol\n",
        "V = 10     #L\n",
        "T = 27     #°C\n",
        "\n",
        "#--- Konversi ke satuan SI ---\n",
        "V_SI = V / 1000.     #10 L = 0.01 m³\n",
        "T_SI = T + 273.15.    #27°C = 300.15 K\n",
        "\n",
        "#--- Perhitungan tekanan ---\n",
        "P = n * R * T_SI / V_SI. #dalan satuan Pascal (Pa)\n",
        "\n",
        "#"
      ],
      "metadata": {
        "id": "1LjYoD5XfqQ6"
      },
      "execution_count": null,
      "outputs": []
    }
  ]
}