{
  "nbformat": 4,
  "nbformat_minor": 0,
  "metadata": {
    "colab": {
      "provenance": [],
      "authorship_tag": "ABX9TyNdzqRQGQLCbh7NSSyUNArz",
      "include_colab_link": true
    },
    "kernelspec": {
      "name": "python3",
      "display_name": "Python 3"
    },
    "language_info": {
      "name": "python"
    }
  },
  "cells": [
    {
      "cell_type": "markdown",
      "metadata": {
        "id": "view-in-github",
        "colab_type": "text"
      },
      "source": [
        "<a href=\"https://colab.research.google.com/github/putikhatuljannah16-wq/Putik/blob/main/Putikhatul.ipynb\" target=\"_parent\"><img src=\"https://colab.research.google.com/assets/colab-badge.svg\" alt=\"Open In Colab\"/></a>"
      ]
    },
    {
      "cell_type": "code",
      "execution_count": 1,
      "metadata": {
        "colab": {
          "base_uri": "https://localhost:8080/"
        },
        "id": "zsdiv9L7oaEv",
        "outputId": "fb89fc0c-142d-436b-fda7-9f16680174c5"
      },
      "outputs": [
        {
          "output_type": "stream",
          "name": "stdout",
          "text": [
            "mobil A: 2000 m / 90 s = 22.22 m/s\n",
            "motor B: 1500 m / 50 s = 30.00 m/s\n",
            "sepeda C: 800 m / 40 s = 20.00 m/s\n",
            "kendaraan tercepat adalah motor B dengan 30.00 m/s\n"
          ]
        }
      ],
      "source": [
        "#kasus 1-kendaraan darat\n",
        "def hitung_kecepatan(jarak, waktu):\n",
        "    return jarak / waktu if waktu != 0 else None\n",
        "nama1 = [\"mobil A\", \"motor B\", \"sepeda C\"]\n",
        "jarak1 = [2000, 1500, 800]\n",
        "waktu1 = [90, 50, 40]\n",
        "\n",
        "kecepatan1 = [hitung_kecepatan(jarak1[i], waktu1[i]) for i in range(3)]\n",
        "\n",
        "for i in range(3):\n",
        "    print(f\"{nama1[i]}: {jarak1[i]} m / {waktu1[i]} s = {kecepatan1[i]:.2f} m/s\")\n",
        "\n",
        "max_v = max(kecepatan1)\n",
        "idx = kecepatan1.index(max_v)\n",
        "print(f\"kendaraan tercepat adalah {nama1[idx]} dengan {max_v:.2f} m/s\")"
      ]
    },
    {
      "cell_type": "code",
      "source": [
        "#kasus 2-atlet lari\n",
        "def hitung_kecepatan(jarak, waktu):\n",
        "    return jarak / waktu if waktu != 0 else None\n",
        "nama1 = [\"pelari 1\", \"pelari 2\", \"pelari 3\"]\n",
        "jarak1 = [400, 800, 1000]\n",
        "waktu1 = [50, 120, 11]\n",
        "\n",
        "kecepatan1 = [hitung_kecepatan(jarak1[i], waktu1[i]) for i in range(3)]\n",
        "\n",
        "for i in range(3):\n",
        "    print(f\"{nama1[i]}: {jarak1[i]} m / {waktu1[i]} s = {kecepatan1[i]:.2f} m/s\")\n",
        "\n",
        "max_v = max(kecepatan1)\n",
        "idx = kecepatan1.index(max_v)\n",
        "print(f\"pelari tercepat adalah {nama1[idx]} dengan {max_v:.2f} m/s\")"
      ],
      "metadata": {
        "colab": {
          "base_uri": "https://localhost:8080/"
        },
        "id": "GzXOHSiZq_nn",
        "outputId": "2a17154e-798e-4175-a7c4-0960109ee540"
      },
      "execution_count": 3,
      "outputs": [
        {
          "output_type": "stream",
          "name": "stdout",
          "text": [
            "pelari 1: 400 m / 50 s = 8.00 m/s\n",
            "pelari 2: 800 m / 120 s = 6.67 m/s\n",
            "pelari 3: 1000 m / 11 s = 90.91 m/s\n",
            "pelari tercepat adalah pelari 3 dengan 90.91 m/s\n"
          ]
        }
      ]
    },
    {
      "cell_type": "code",
      "source": [
        "#kasus 3-transportasi umum\n",
        "def hitung_kecepatan(jarak, waktu):\n",
        "    return jarak / waktu if waktu != 0 else None\n",
        "nama1 = [\"kereta\", \"bus\", \"truk\"]\n",
        "jarak1 = [5000, 3000, 2500]\n",
        "waktu1 = [180, 120, 120]\n",
        "\n",
        "kecepatan1 = [hitung_kecepatan(jarak1[i], waktu1[i]) for i in range(3)]\n",
        "\n",
        "for i in range(3):\n",
        "    print(f\"{nama1[i]}: {jarak1[i]} m / {waktu1[i]} s = {kecepatan1[i]:.2f} m/s\")\n",
        "\n",
        "max_v = max(kecepatan1)\n",
        "idx = kecepatan1.index(max_v)\n",
        "print(f\"kecepatan masing-masing kendaraan adalah {nama1[idx]} dengan {max_v:.2f} m/s\")"
      ],
      "metadata": {
        "colab": {
          "base_uri": "https://localhost:8080/"
        },
        "id": "p6FfM_Kbr3CS",
        "outputId": "00d6e3b7-bb2a-4a25-c5e7-04e5a3dc1ed0"
      },
      "execution_count": 4,
      "outputs": [
        {
          "output_type": "stream",
          "name": "stdout",
          "text": [
            "kereta: 5000 m / 180 s = 27.78 m/s\n",
            "bus: 3000 m / 120 s = 25.00 m/s\n",
            "truk: 2500 m / 120 s = 20.83 m/s\n",
            "kecepatan masing-masing kendaraan adalah kereta dengan 27.78 m/s\n"
          ]
        }
      ]
    },
    {
      "cell_type": "code",
      "source": [
        "#kasus 4-udara, laut, darat\n",
        "def hitung_kecepatan(jarak, waktu):\n",
        "    return jarak / waktu if waktu != 0 else None\n",
        "nama1 = [\"drone\", \"kapal\", \"pemain sepak bola\"]\n",
        "jarak1 = [1200, 5000, 60]\n",
        "waktu1 = [60, 300, 7]\n",
        "\n",
        "kecepatan1 = [hitung_kecepatan(jarak1[i], waktu1[i]) for i in range(3)]\n",
        "\n",
        "for i in range(3):\n",
        "    print(f\"{nama1[i]}: {jarak1[i]} m / {waktu1[i]} s = {kecepatan1[i]:.2f} m/s\")\n",
        "\n",
        "max_v = max(kecepatan1)\n",
        "idx = kecepatan1.index(max_v)\n",
        "print(f\"kecepatan tercepat adalah {nama1[idx]} dengan {max_v:.2f} m/s\")"
      ],
      "metadata": {
        "colab": {
          "base_uri": "https://localhost:8080/"
        },
        "id": "5m6SVBfwsZz2",
        "outputId": "1e35da5e-4252-49d8-d81d-d1749eac7e37"
      },
      "execution_count": 5,
      "outputs": [
        {
          "output_type": "stream",
          "name": "stdout",
          "text": [
            "drone: 1200 m / 60 s = 20.00 m/s\n",
            "kapal: 5000 m / 300 s = 16.67 m/s\n",
            "pemain sepak bola: 60 m / 7 s = 8.57 m/s\n",
            "kecepatan tercepat adalah drone dengan 20.00 m/s\n"
          ]
        }
      ]
    }
  ]
}